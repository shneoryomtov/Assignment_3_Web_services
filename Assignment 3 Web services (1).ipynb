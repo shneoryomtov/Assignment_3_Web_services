{
 "cells": [
  {
   "cell_type": "code",
   "execution_count": 2,
   "id": "df4f1d34-37b6-4d52-9cf0-51a95457946d",
   "metadata": {},
   "outputs": [
    {
     "name": "stdout",
     "output_type": "stream",
     "text": [
      "Collecting googlemaps\n",
      "  Downloading googlemaps-4.10.0.tar.gz (33 kB)\n",
      "  Preparing metadata (setup.py): started\n",
      "  Preparing metadata (setup.py): finished with status 'done'\n",
      "Requirement already satisfied: pandas in c:\\users\\shneo\\anaconda3\\lib\\site-packages (1.5.3)\n",
      "Requirement already satisfied: requests in c:\\users\\shneo\\anaconda3\\lib\\site-packages (2.28.1)\n",
      "Requirement already satisfied: python-dateutil>=2.8.1 in c:\\users\\shneo\\anaconda3\\lib\\site-packages (from pandas) (2.8.2)\n",
      "Requirement already satisfied: numpy>=1.21.0 in c:\\users\\shneo\\anaconda3\\lib\\site-packages (from pandas) (1.23.5)\n",
      "Requirement already satisfied: pytz>=2020.1 in c:\\users\\shneo\\anaconda3\\lib\\site-packages (from pandas) (2022.7)\n",
      "Requirement already satisfied: idna<4,>=2.5 in c:\\users\\shneo\\anaconda3\\lib\\site-packages (from requests) (3.4)\n",
      "Requirement already satisfied: charset-normalizer<3,>=2 in c:\\users\\shneo\\anaconda3\\lib\\site-packages (from requests) (2.0.4)\n",
      "Requirement already satisfied: certifi>=2017.4.17 in c:\\users\\shneo\\anaconda3\\lib\\site-packages (from requests) (2022.12.7)\n",
      "Requirement already satisfied: urllib3<1.27,>=1.21.1 in c:\\users\\shneo\\anaconda3\\lib\\site-packages (from requests) (1.26.14)\n",
      "Requirement already satisfied: six>=1.5 in c:\\users\\shneo\\anaconda3\\lib\\site-packages (from python-dateutil>=2.8.1->pandas) (1.16.0)\n",
      "Building wheels for collected packages: googlemaps\n",
      "  Building wheel for googlemaps (setup.py): started\n",
      "  Building wheel for googlemaps (setup.py): finished with status 'done'\n",
      "  Created wheel for googlemaps: filename=googlemaps-4.10.0-py3-none-any.whl size=40750 sha256=b0431b5890a6dafe44b93a0042196ddd2875da3010f209d720bd64871a39b3a7\n",
      "  Stored in directory: c:\\users\\shneo\\appdata\\local\\pip\\cache\\wheels\\ca\\e3\\07\\3a193cac660b6210a88180b659cb251f941cbff99a0f556136\n",
      "Successfully built googlemaps\n",
      "Installing collected packages: googlemaps\n",
      "Successfully installed googlemaps-4.10.0\n"
     ]
    }
   ],
   "source": [
    "!pip install googlemaps pandas requests\n"
   ]
  },
  {
   "cell_type": "code",
   "execution_count": 1,
   "id": "40d0b89f-691a-46b5-b633-480314f6bb9f",
   "metadata": {},
   "outputs": [],
   "source": [
    "# ייבוא הספריות הנדרשות\n",
    "import requests\n",
    "import pandas as pd\n",
    "import json\n"
   ]
  },
  {
   "cell_type": "code",
   "execution_count": 2,
   "id": "43803ad8-999b-48f4-ad7e-536c7ca20133",
   "metadata": {},
   "outputs": [],
   "source": [
    "# Set up API keys\n",
    "distance_matrix_api_key = 'AIzaSyB-********************************'\n",
    "geocoding_api_key = 'AIzaSyB-*********************************************'\n"
   ]
  },
  {
   "cell_type": "code",
   "execution_count": null,
   "id": "a02b33d9-6dbd-4fbe-b33c-8d8a628a2782",
   "metadata": {},
   "outputs": [],
   "source": []
  },
  {
   "cell_type": "code",
   "execution_count": 3,
   "id": "7496528a-84cc-4f64-b075-306701a60878",
   "metadata": {},
   "outputs": [],
   "source": [
    "def get_destination_info(destination):\n",
    "    # Set up distance matrix API request URL\n",
    "    distance_matrix_api_url = \"https://maps.googleapis.com/maps/api/distancematrix/json?units=metric\"\n",
    "    origin = \"Tel Aviv\"\n",
    "    destination = destination.replace(\" \", \"+\")\n",
    "    url = f\"{distance_matrix_api_url}&origins={origin}&destinations={destination}&key={distance_matrix_api_key}\"\n",
    "\n",
    "    # Send request to distance matrix API\n",
    "    response = requests.get(url).json()\n",
    "\n",
    "    # Get distance and duration\n",
    "    distance = response[\"rows\"][0][\"elements\"][0][\"distance\"][\"value\"] / 1000 # convert to km\n",
    "    duration = response[\"rows\"][0][\"elements\"][0][\"duration\"][\"text\"]\n",
    "\n",
    "    # Set up geocoding API request URL\n",
    "    geocoding_api_url = \"https://maps.googleapis.com/maps/api/geocode/json\"\n",
    "    url = f\"{geocoding_api_url}?address={destination}&key={geocoding_api_key}\"\n",
    "\n",
    "    # Send request to geocoding API\n",
    "    response = requests.get(url).json()\n",
    "\n",
    "    # Get location\n",
    "    location = response[\"results\"][0][\"geometry\"][\"location\"]\n",
    "    latitude = location[\"lat\"]\n",
    "    longitude = location[\"lng\"]\n",
    "\n",
    "    return distance, duration, longitude, latitude\n"
   ]
  },
  {
   "cell_type": "code",
   "execution_count": 4,
   "id": "e238fbae-a207-45ef-974b-5ad9f626df18",
   "metadata": {},
   "outputs": [
    {
     "name": "stderr",
     "output_type": "stream",
     "text": [
      "C:\\Users\\shneo\\AppData\\Local\\Temp\\ipykernel_27352\\2064858536.py:12: FutureWarning: The frame.append method is deprecated and will be removed from pandas in a future version. Use pandas.concat instead.\n",
      "  df = df.append({\n",
      "C:\\Users\\shneo\\AppData\\Local\\Temp\\ipykernel_27352\\2064858536.py:12: FutureWarning: The frame.append method is deprecated and will be removed from pandas in a future version. Use pandas.concat instead.\n",
      "  df = df.append({\n",
      "C:\\Users\\shneo\\AppData\\Local\\Temp\\ipykernel_27352\\2064858536.py:12: FutureWarning: The frame.append method is deprecated and will be removed from pandas in a future version. Use pandas.concat instead.\n",
      "  df = df.append({\n",
      "C:\\Users\\shneo\\AppData\\Local\\Temp\\ipykernel_27352\\2064858536.py:12: FutureWarning: The frame.append method is deprecated and will be removed from pandas in a future version. Use pandas.concat instead.\n",
      "  df = df.append({\n",
      "C:\\Users\\shneo\\AppData\\Local\\Temp\\ipykernel_27352\\2064858536.py:12: FutureWarning: The frame.append method is deprecated and will be removed from pandas in a future version. Use pandas.concat instead.\n",
      "  df = df.append({\n"
     ]
    }
   ],
   "source": [
    "# Read destinations from file\n",
    "with open(\"C:\\\\Users\\\\shneo\\\\OneDrive\\\\exc_phyton\\\\dests.txt\", \"r\") as f:\n",
    "    destinations = f.read().splitlines()\n",
    "\n",
    "# Create empty dataframe to store results\n",
    "columns = [\"Target\", \"Distance_km\", \"Duration\", \"Longitude\", \"Latitude\"]\n",
    "df = pd.DataFrame(columns=columns)\n",
    "\n",
    "# Call get_destination_info function for each destination\n",
    "for destination in destinations:\n",
    "    distance, duration, longitude, latitude = get_destination_info(destination)\n",
    "    df = df.append({\n",
    "        \"Target\": destination,\n",
    "        \"Distance_km\": distance,\n",
    "        \"Duration\": duration,\n",
    "        \"Longitude\": longitude,\n",
    "        \"Latitude\": latitude\n",
    "    }, ignore_index=True)\n"
   ]
  },
  {
   "cell_type": "code",
   "execution_count": 5,
   "id": "9f8f4063-d76c-4aad-bb82-f1da0e555c3c",
   "metadata": {},
   "outputs": [
    {
     "name": "stdout",
     "output_type": "stream",
     "text": [
      "      Target  Distance_km          Duration  Longitude   Latitude\n",
      "0   Istanbul     1815.227   21 hours 3 mins  28.978359  41.008238\n",
      "1  Amsterdam     4532.549    2 days 0 hours   4.904139  52.367573\n",
      "2   Valletta     3792.883    2 days 3 hours  14.514100  35.899237\n",
      "3      Basel     4092.812    1 day 20 hours   7.588576  47.559599\n",
      "4       Doha     2164.477  22 hours 39 mins  51.531040  25.285447\n"
     ]
    }
   ],
   "source": [
    "# Print dataframe\n",
    "print(df)\n",
    "\n"
   ]
  },
  {
   "cell_type": "code",
   "execution_count": 6,
   "id": "7974b6af-ba04-47ed-95c7-096a299f3349",
   "metadata": {},
   "outputs": [
    {
     "name": "stdout",
     "output_type": "stream",
     "text": [
      "['Amsterdam', 'Basel', 'Valletta']\n"
     ]
    }
   ],
   "source": [
    "# Find 3 cities furthest from Tel Aviv\n",
    "furthest_cities = df.sort_values(by=\"Distance_km\", ascending=False).head(3)[\"Target\"].tolist()\n",
    "print(furthest_cities)\n"
   ]
  },
  {
   "cell_type": "code",
   "execution_count": null,
   "id": "26d00cf8-cbae-4e37-b81e-f81ebb90d9a3",
   "metadata": {},
   "outputs": [],
   "source": []
  }
 ],
 "metadata": {
  "kernelspec": {
   "display_name": "Python 3 (ipykernel)",
   "language": "python",
   "name": "python3"
  },
  "language_info": {
   "codemirror_mode": {
    "name": "ipython",
    "version": 3
   },
   "file_extension": ".py",
   "mimetype": "text/x-python",
   "name": "python",
   "nbconvert_exporter": "python",
   "pygments_lexer": "ipython3",
   "version": "3.10.9"
  }
 },
 "nbformat": 4,
 "nbformat_minor": 5
}
